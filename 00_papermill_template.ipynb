{
 "cells": [
  {
   "cell_type": "markdown",
   "id": "Hbol",
   "metadata": {},
   "source": [
    "# Numeric embedding analysis"
   ]
  },
  {
   "cell_type": "code",
   "execution_count": null,
   "id": "d776b413",
   "metadata": {},
   "outputs": [],
   "source": [
    "import altair as alt\n",
    "from embanalysis.duckdb_loader import DuckDBLoader\n",
    "from embanalysis.constants import PROJECT_ROOT, HF_MODEL_ALIASES\n",
    "from embanalysis.analyzer import EmbeddingsAnalyzer\n",
    "\n",
    "from sklearn.decomposition import PCA, TruncatedSVD\n",
    "from sklearn.manifold import TSNE\n",
    "from umap import UMAP\n",
    "\n",
    "import pandas as pd\n",
    "\n",
    "import warnings\n",
    "\n",
    "alt.data_transformers.disable_max_rows()\n",
    "alt.renderers.set_embed_options(theme=\"light\")\n",
    "\n",
    "pd.set_option('display.float_format', '{:.5f}'.format) "
   ]
  },
  {
   "cell_type": "code",
   "execution_count": null,
   "id": "vblA",
   "metadata": {
    "tags": [
     "parameters"
    ]
   },
   "outputs": [],
   "source": [
    "model_id = \"llama\"\n",
    "version = \"v1\"\n",
    "plots_path = PROJECT_ROOT / \"plots\"\n",
    "svg_plots_path = PROJECT_ROOT / \"thesis\" / \"src\" / \"plots\"\n",
    "csv_path = PROJECT_ROOT / \"thesis\" / \"src\" / \"csv\"\n",
    "enable_display = True\n",
    "enable_save = False"
   ]
  },
  {
   "cell_type": "code",
   "execution_count": null,
   "id": "006a91b3",
   "metadata": {},
   "outputs": [],
   "source": [
    "model_id = HF_MODEL_ALIASES.get(model_id, model_id)\n",
    "model_name = model_id.split(\"/\")[-1]\n",
    "\n",
    "\n",
    "def register_plot(name, plot, save=enable_save, display=enable_display):\n",
    "    if save:\n",
    "        global counter\n",
    "\n",
    "        plots_path.mkdir(parents=True, exist_ok=True)\n",
    "        svg_plots_path.mkdir(parents=True, exist_ok=True)\n",
    "\n",
    "        file_name = f\"{model_name}_{name}_{version}\"\n",
    "\n",
    "        plot.save(svg_plots_path / f\"{file_name}.svg\")\n",
    "        plot.save(plots_path / f\"{file_name}.png\")\n",
    "\n",
    "        print(f\"Plot saved as {svg_plots_path / f'{file_name}.svg'}\")\n",
    "\n",
    "    if display:\n",
    "        return plot\n",
    "\n",
    "def register_df(name, df, save=enable_save, display=enable_display):\n",
    "    if save:\n",
    "        df.to_csv(csv_path / f\"{model_name}_{name}_{version}.csv\", index=False)\n",
    "    if display:\n",
    "        return df"
   ]
  },
  {
   "cell_type": "code",
   "execution_count": null,
   "id": "93dcf26c",
   "metadata": {},
   "outputs": [],
   "source": [
    "loader = DuckDBLoader.default(read_only=True)\n",
    "\n",
    "# Load samples for the specified model\n",
    "samples = loader.get_model_samples(model_id)\n",
    "samples"
   ]
  },
  {
   "cell_type": "code",
   "execution_count": null,
   "id": "fa1db73f",
   "metadata": {},
   "outputs": [],
   "source": [
    "# Create analyzers for number embeddings and random embeddings\n",
    "number_analyzer = EmbeddingsAnalyzer.from_sample(samples[\"integers\"])\n",
    "random_analyzer = EmbeddingsAnalyzer.from_sample(samples[\"random\"])\n",
    "\n",
    "print(f\"Number embeddings shape: {number_analyzer.embeddings_df.shape}\")\n",
    "print(f\"Random embeddings shape: {random_analyzer.embeddings_df.shape}\")\n",
    "number_analyzer.embeddings_df.head()"
   ]
  },
  {
   "cell_type": "markdown",
   "id": "ba2f1bf3",
   "metadata": {},
   "source": [
    "# Linear Dimensionality Reduction"
   ]
  },
  {
   "cell_type": "markdown",
   "id": "fd7a507d",
   "metadata": {},
   "source": [
    "## Principal Component Analysis"
   ]
  },
  {
   "cell_type": "code",
   "execution_count": null,
   "id": "2e7bf3f9",
   "metadata": {},
   "outputs": [],
   "source": [
    "number_pca = number_analyzer.run_estimator(PCA(n_components=1000))\n",
    "random_pca = random_analyzer.run_estimator(PCA(n_components=100))\n",
    "\n",
    "plot = alt.hconcat(\n",
    "    number_pca.plot.components(plot_type=\"gradient\"),\n",
    "    number_pca.plot.components(plot_type=\"digit_length\"),\n",
    ").resolve_scale(color=\"independent\")\n",
    "\n",
    "register_plot(\"pca_components_gradient_digit_length\", plot, save=True)"
   ]
  },
  {
   "cell_type": "markdown",
   "id": "494ef1aa",
   "metadata": {},
   "source": [
    "### Explained variance"
   ]
  },
  {
   "cell_type": "code",
   "execution_count": null,
   "id": "7c9d861d",
   "metadata": {},
   "outputs": [],
   "source": [
    "plot = number_pca.plot.variance_overview()\n",
    "register_plot(\"pca_variance_overview\", plot)"
   ]
  },
  {
   "cell_type": "markdown",
   "id": "88ccb84d",
   "metadata": {},
   "source": [
    "## Singular Value Decomposition"
   ]
  },
  {
   "cell_type": "code",
   "execution_count": null,
   "id": "2ebe30a3",
   "metadata": {},
   "outputs": [],
   "source": [
    "number_svd = number_analyzer.run_estimator(TruncatedSVD(n_components=100))\n",
    "random_svd = random_analyzer.run_estimator(TruncatedSVD(n_components=100))\n",
    "\n",
    "plot = alt.hconcat(\n",
    "    number_svd.plot.components(0, 2, plot_type=\"gradient\"),\n",
    "    number_svd.plot.components(0, 2, plot_type=\"digit_length\"),\n",
    ").resolve_scale(color=\"independent\")\n",
    "\n",
    "register_plot(\"svd_components_gradient_0-2\", plot, save=True)"
   ]
  },
  {
   "cell_type": "code",
   "execution_count": null,
   "id": "959d80fa",
   "metadata": {},
   "outputs": [],
   "source": [
    "plot = alt.hconcat(\n",
    "    number_svd.plot.components(0, 1, plot_type=\"digit_length\"),\n",
    "    number_svd.plot.components(0, 1, plot_type=\"digit\", digit_position=2)\n",
    ").resolve_scale(color=\"independent\")\n",
    "\n",
    "register_plot(\"svd_digit_visualizations_0-2\", plot)"
   ]
  },
  {
   "cell_type": "markdown",
   "id": "1c1eba49",
   "metadata": {},
   "source": [
    "### Correlation Heatmap"
   ]
  },
  {
   "cell_type": "code",
   "execution_count": null,
   "id": "028492bb",
   "metadata": {},
   "outputs": [],
   "source": [
    "random_svd = random_analyzer.run_estimator(TruncatedSVD(n_components=100))\n",
    "# Compare correlation heatmaps between number and random embeddings\n",
    "plot = alt.hconcat(\n",
    "    number_svd.plot.correlation_heatmap(20),\n",
    "    random_svd.plot.correlation_heatmap(20),\n",
    ")\n",
    "\n",
    "register_plot(\"svd_correlation_heatmap\", plot)"
   ]
  },
  {
   "cell_type": "markdown",
   "id": "ba3d66a1",
   "metadata": {},
   "source": [
    "### Components with maximum correlation"
   ]
  },
  {
   "cell_type": "code",
   "execution_count": null,
   "id": "46dd445e",
   "metadata": {},
   "outputs": [],
   "source": [
    "plot = number_pca.plot.top_correlated_components(\n",
    "    n_vectors=10, corr_df=number_svd.top_correlations_df(10)\n",
    ")\n",
    "register_plot(\"pca_top_correlated_components\", plot)"
   ]
  },
  {
   "cell_type": "code",
   "execution_count": null,
   "id": "f650791d",
   "metadata": {},
   "outputs": [],
   "source": [
    "plot = number_svd.plot.top_correlated_components(n_vectors=10)\n",
    "register_plot(\"svd_top_correlated_components\", plot)"
   ]
  },
  {
   "cell_type": "markdown",
   "id": "4758610e",
   "metadata": {},
   "source": [
    "# Non-Linear Dimensionality Reduction"
   ]
  },
  {
   "cell_type": "markdown",
   "id": "643b83c2",
   "metadata": {},
   "source": [
    "## t-SNE"
   ]
  },
  {
   "cell_type": "code",
   "execution_count": null,
   "id": "1855a15b",
   "metadata": {},
   "outputs": [],
   "source": [
    "tsne_kwargs = dict(\n",
    "    perplexity=75,\n",
    "    max_iter=3000,\n",
    "    learning_rate=50,\n",
    "    early_exaggeration=20,\n",
    "    random_state=42,\n",
    ")\n",
    "\n",
    "# Apply t-SNE to both embeddings\n",
    "number_tsne = number_analyzer.run_estimator(TSNE(**tsne_kwargs))\n",
    "random_tsne = random_analyzer.run_estimator(TSNE(**tsne_kwargs))\n",
    "\n",
    "plot = alt.hconcat(\n",
    "    number_tsne.plot.components(plot_type=\"gradient\"),\n",
    "    number_tsne.plot.components(plot_type=\"digit\"),\n",
    ").resolve_scale(color=\"independent\")\n",
    "\n",
    "register_plot(\"tsne_components_gradient_digit\", plot, save=True)"
   ]
  },
  {
   "cell_type": "code",
   "execution_count": null,
   "id": "991e5e38",
   "metadata": {},
   "outputs": [],
   "source": [
    "# t-SNE digit visualizations\n",
    "plot = alt.hconcat(\n",
    "    number_tsne.plot.components(plot_type=\"digit_length\", x_component=0, y_component=1),\n",
    "    number_tsne.plot.components(\n",
    "        plot_type=\"digit\", x_component=0, y_component=1, digit_position=2\n",
    "    ),\n",
    ").resolve_legend(color=\"independent\")\n",
    "\n",
    "register_plot(\"tsne_digit_visualizations\", plot)"
   ]
  },
  {
   "cell_type": "markdown",
   "id": "5ca1fd9e",
   "metadata": {},
   "source": [
    "## UMAP"
   ]
  },
  {
   "cell_type": "markdown",
   "id": "3b9fca26",
   "metadata": {},
   "source": [
    "### Cosine similarity"
   ]
  },
  {
   "cell_type": "code",
   "execution_count": null,
   "id": "1f5659dd",
   "metadata": {},
   "outputs": [],
   "source": [
    "umap_kwargs = dict(\n",
    "    # Increase from default 15 to preserve more global structure\n",
    "    n_neighbors=50,\n",
    "    # Decrease from default 0.1 for tighter local clusters\n",
    "    min_dist=0.05,\n",
    "    metric=\"cosine\",\n",
    "    # Increase from default 1.0 to spread out the visualization\n",
    "    spread=1.5,\n",
    "    # Increase to enhance local structure preservation\n",
    "    local_connectivity=2,\n",
    "    random_state=42,\n",
    ")\n",
    "\n",
    "with warnings.catch_warnings():\n",
    "    warnings.filterwarnings(\"ignore\")\n",
    "    number_umap_cos = number_analyzer.run_estimator(UMAP(**umap_kwargs))\n",
    "    random_umap_cos = random_analyzer.run_estimator(UMAP(**umap_kwargs))\n",
    "\n",
    "plot = alt.hconcat(\n",
    "    number_umap_cos.plot.components(plot_type=\"gradient\"),\n",
    "    random_umap_cos.plot.components(plot_type=\"gradient\"),\n",
    ").resolve_scale(color=\"independent\")\n",
    "\n",
    "register_plot(\"umap_cosine_components_gradient\", plot)"
   ]
  },
  {
   "cell_type": "code",
   "execution_count": null,
   "id": "9869a86f",
   "metadata": {},
   "outputs": [],
   "source": [
    "# UMAP cosine digit visualizations\n",
    "plot = alt.hconcat(\n",
    "    number_umap_cos.plot.components(\n",
    "        plot_type=\"digit_length\", x_component=0, y_component=1\n",
    "    ),\n",
    "    number_umap_cos.plot.components(\n",
    "        plot_type=\"digit\", x_component=0, y_component=1, digit_position=2\n",
    "    ),\n",
    ").resolve_legend(color=\"independent\")\n",
    "\n",
    "register_plot(\"umap_cosine_digit_visualizations\", plot)"
   ]
  },
  {
   "cell_type": "markdown",
   "id": "97a940a1",
   "metadata": {},
   "source": [
    "### Euclidean distance"
   ]
  },
  {
   "cell_type": "code",
   "execution_count": null,
   "id": "032557e5",
   "metadata": {},
   "outputs": [],
   "source": [
    "umap_kwargs.update(metric=\"euclidean\")\n",
    "\n",
    "with warnings.catch_warnings():\n",
    "    warnings.filterwarnings(\"ignore\")\n",
    "    number_umap_euc = number_analyzer.run_estimator(UMAP(**umap_kwargs))\n",
    "    random_umap_euc = random_analyzer.run_estimator(UMAP(**umap_kwargs))\n",
    "\n",
    "plot = alt.hconcat(\n",
    "    number_umap_euc.plot.components(plot_type=\"gradient\"),\n",
    "    random_umap_euc.plot.components(plot_type=\"gradient\"),\n",
    ").resolve_scale(color=\"independent\")\n",
    "\n",
    "register_plot(\"umap_euclidean_components_gradient\", plot)"
   ]
  },
  {
   "cell_type": "code",
   "execution_count": null,
   "id": "a0b84169",
   "metadata": {},
   "outputs": [],
   "source": [
    "# UMAP Euclidean digit visualizations\n",
    "plot = alt.hconcat(\n",
    "    number_umap_euc.plot.components(plot_type=\"digit_length\", x_component=0, y_component=1),\n",
    "    number_umap_euc.plot.components( plot_type=\"digit\", x_component=0, y_component=1, digit_position=2)\n",
    ").resolve_scale(color=\"independent\")\n",
    "\n",
    "register_plot(\"umap_euclidean_digit_visualizations\", plot)"
   ]
  },
  {
   "cell_type": "markdown",
   "id": "66a49fa7",
   "metadata": {},
   "source": [
    "# Feature Analysis"
   ]
  },
  {
   "cell_type": "code",
   "execution_count": null,
   "id": "103aaf73",
   "metadata": {},
   "outputs": [],
   "source": [
    "number_analyzer.feature_to_sequence_analysis_df()"
   ]
  },
  {
   "cell_type": "code",
   "execution_count": null,
   "id": "66312ad9",
   "metadata": {},
   "outputs": [],
   "source": [
    "plot = number_analyzer.plot.strong_property_correlation_bar_chart()\n",
    "register_plot(\"strong_property_correlations\", plot)"
   ]
  },
  {
   "cell_type": "code",
   "execution_count": null,
   "id": "e1caad9f",
   "metadata": {},
   "outputs": [],
   "source": [
    "plot = number_pca.plot.strong_property_correlation_bar_chart()\n",
    "register_plot(\"strong_property_correlations_pca\", plot)"
   ]
  },
  {
   "cell_type": "code",
   "execution_count": null,
   "id": "729ee998",
   "metadata": {},
   "outputs": [],
   "source": [
    "plot = number_svd.plot.strong_property_correlation_bar_chart()\n",
    "register_plot(\"strong_property_correlations_svd\", plot)"
   ]
  },
  {
   "cell_type": "code",
   "execution_count": null,
   "id": "015ba6f7",
   "metadata": {},
   "outputs": [],
   "source": [
    "df = number_analyzer.feature_to_sequence_analysis_df()"
   ]
  }
 ],
 "metadata": {
  "kernelspec": {
   "display_name": "embanalysis",
   "language": "python",
   "name": "python3"
  },
  "language_info": {
   "codemirror_mode": {
    "name": "ipython",
    "version": 3
   },
   "file_extension": ".py",
   "mimetype": "text/x-python",
   "name": "python",
   "nbconvert_exporter": "python",
   "pygments_lexer": "ipython3",
   "version": "3.13.4"
  }
 },
 "nbformat": 4,
 "nbformat_minor": 5
}
