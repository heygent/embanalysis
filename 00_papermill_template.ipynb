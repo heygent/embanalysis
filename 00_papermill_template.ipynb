{
 "cells": [
  {
   "cell_type": "markdown",
   "id": "Hbol",
   "metadata": {},
   "source": [
    "# Numeric embedding analysis"
   ]
  },
  {
   "cell_type": "code",
   "execution_count": 15,
   "id": "d776b413",
   "metadata": {},
   "outputs": [
    {
     "data": {
      "text/plain": [
       "RendererRegistry.enable('default')"
      ]
     },
     "execution_count": 15,
     "metadata": {},
     "output_type": "execute_result"
    }
   ],
   "source": [
    "import altair as alt\n",
    "from embanalysis.duckdb_loader import DuckDBLoader\n",
    "from embanalysis.constants import PROJECT_ROOT, HF_MODEL_ALIASES\n",
    "from embanalysis.analyzer import EmbeddingsAnalyzer\n",
    "\n",
    "from sklearn.decomposition import PCA, TruncatedSVD\n",
    "from sklearn.manifold import TSNE\n",
    "from umap import UMAP\n",
    "\n",
    "import warnings\n",
    "\n",
    "alt.data_transformers.disable_max_rows()\n",
    "alt.renderers.set_embed_options(theme=\"light\")"
   ]
  },
  {
   "cell_type": "code",
   "execution_count": null,
   "id": "vblA",
   "metadata": {
    "tags": [
     "parameters"
    ]
   },
   "outputs": [],
   "source": [
    "model_id = \"allenai/OLMo-2-1124-7B\"\n",
    "version = \"v1\"\n",
    "plots_path = PROJECT_ROOT / \"plots\"\n",
    "svg_plots_path = PROJECT_ROOT / \"thesis\" / \"src\" / \"plots\"\n",
    "csv_path = PROJECT_ROOT / \"thesis\" / \"src\" / \"csv\"\n",
    "enable_display = True\n",
    "enable_save = False"
   ]
  },
  {
   "cell_type": "code",
   "execution_count": null,
   "id": "006a91b3",
   "metadata": {},
   "outputs": [],
   "source": [
    "model_id = HF_MODEL_ALIASES.get(model_id, model_id)\n",
    "model_name = model_id.split(\"/\")[-1]\n",
    "\n",
    "\n",
    "def register_plot(name, plot, save=enable_save, display=enable_display):\n",
    "    if save:\n",
    "        global counter\n",
    "\n",
    "        plots_path.mkdir(parents=True, exist_ok=True)\n",
    "        svg_plots_path.mkdir(parents=True, exist_ok=True)\n",
    "\n",
    "        file_name = f\"{model_name}_{name}_{version}\"\n",
    "\n",
    "        plot.save(svg_plots_path / f\"{file_name}.svg\")\n",
    "        plot.save(plots_path / f\"{file_name}.png\")\n",
    "\n",
    "    if display:\n",
    "        return plot\n",
    "\n",
    "def register_df(name, df):\n",
    "    if enable_save:\n",
    "        df.to_csv(csv_path / f\"{model_name}_{name}_{version}.csv\", index=False)\n",
    "    if enable_display:\n",
    "        return df"
   ]
  },
  {
   "cell_type": "code",
   "execution_count": null,
   "id": "93dcf26c",
   "metadata": {},
   "outputs": [],
   "source": [
    "loader = DuckDBLoader.default(read_only=True)\n",
    "\n",
    "# Load samples for the specified model\n",
    "samples = loader.get_model_samples(model_id)\n",
    "samples"
   ]
  },
  {
   "cell_type": "code",
   "execution_count": null,
   "id": "fa1db73f",
   "metadata": {},
   "outputs": [],
   "source": [
    "# Create analyzers for number embeddings and random embeddings\n",
    "number_analyzer = EmbeddingsAnalyzer.from_sample(samples[\"integers\"])\n",
    "random_analyzer = EmbeddingsAnalyzer.from_sample(samples[\"random\"])\n",
    "\n",
    "print(f\"Number embeddings shape: {number_analyzer.embeddings_df.shape}\")\n",
    "print(f\"Random embeddings shape: {random_analyzer.embeddings_df.shape}\")\n",
    "number_analyzer.embeddings_df.head()"
   ]
  },
  {
   "cell_type": "markdown",
   "id": "ba2f1bf3",
   "metadata": {},
   "source": [
    "# Linear Dimensionality Reduction"
   ]
  },
  {
   "cell_type": "markdown",
   "id": "fd7a507d",
   "metadata": {},
   "source": [
    "## Principal Component Analysis"
   ]
  },
  {
   "cell_type": "code",
   "execution_count": null,
   "id": "2e7bf3f9",
   "metadata": {},
   "outputs": [],
   "source": [
    "number_pca = number_analyzer.run_estimator(PCA(n_components=1000))\n",
    "random_pca = random_analyzer.run_estimator(PCA(n_components=100))\n",
    "\n",
    "plot = alt.hconcat(\n",
    "    number_pca.plot.components(plot_type=\"gradient\"),\n",
    "    random_pca.plot.components(plot_type=\"gradient\"),\n",
    ").resolve_scale(color=\"independent\")\n",
    "\n",
    "register_plot(\"pca_components_gradient\", plot)"
   ]
  },
  {
   "cell_type": "markdown",
   "id": "494ef1aa",
   "metadata": {},
   "source": [
    "### Explained variance"
   ]
  },
  {
   "cell_type": "code",
   "execution_count": null,
   "id": "7c9d861d",
   "metadata": {},
   "outputs": [],
   "source": [
    "plot = number_pca.plot.variance_overview()\n",
    "register_plot(\"pca_variance_overview\", plot)"
   ]
  },
  {
   "cell_type": "markdown",
   "id": "88ccb84d",
   "metadata": {},
   "source": [
    "## Singular Value Decomposition"
   ]
  },
  {
   "cell_type": "code",
   "execution_count": null,
   "id": "2ebe30a3",
   "metadata": {},
   "outputs": [],
   "source": [
    "number_svd = number_analyzer.run_estimator(TruncatedSVD(n_components=100))\n",
    "random_svd = random_analyzer.run_estimator(TruncatedSVD(n_components=100))\n",
    "\n",
    "plot = alt.hconcat(\n",
    "    number_svd.plot.components(plot_type=\"gradient\"),\n",
    "    random_svd.plot.components(plot_type=\"gradient\"),\n",
    ").resolve_scale(color=\"independent\")\n",
    "\n",
    "register_plot(\"svd_components_gradient\", plot)"
   ]
  },
  {
   "cell_type": "code",
   "execution_count": null,
   "id": "959d80fa",
   "metadata": {},
   "outputs": [],
   "source": [
    "plot = alt.hconcat(\n",
    "    number_svd.plot.components(plot_type=\"digit_length\", x_component=0, y_component=1),\n",
    "    number_svd.plot.components(plot_type=\"digit\", x_component=0, y_component=1, digit_position=2)\n",
    ").resolve_scale(color=\"independent\")\n",
    "\n",
    "register_plot(\"svd_digit_visualizations\", plot)"
   ]
  },
  {
   "cell_type": "markdown",
   "id": "1c1eba49",
   "metadata": {},
   "source": [
    "### Correlation Heatmap"
   ]
  },
  {
   "cell_type": "code",
   "execution_count": null,
   "id": "028492bb",
   "metadata": {},
   "outputs": [],
   "source": [
    "random_svd = random_analyzer.run_estimator(TruncatedSVD(n_components=100))\n",
    "# Compare correlation heatmaps between number and random embeddings\n",
    "plot = alt.hconcat(\n",
    "    number_svd.plot.correlation_heatmap(20),\n",
    "    random_svd.plot.correlation_heatmap(20),\n",
    ")\n",
    "\n",
    "register_plot(\"svd_correlation_heatmap\", plot)"
   ]
  },
  {
   "cell_type": "markdown",
   "id": "ba3d66a1",
   "metadata": {},
   "source": [
    "### Components with maximum correlation"
   ]
  },
  {
   "cell_type": "code",
   "execution_count": null,
   "id": "46dd445e",
   "metadata": {},
   "outputs": [],
   "source": [
    "plot = number_pca.plot.top_correlated_components(\n",
    "    n_vectors=10, corr_df=number_svd.top_correlations_df(10)\n",
    ")\n",
    "register_plot(\"pca_top_correlated_components\", plot)"
   ]
  },
  {
   "cell_type": "code",
   "execution_count": null,
   "id": "f650791d",
   "metadata": {},
   "outputs": [],
   "source": [
    "plot = number_svd.plot.top_correlated_components(n_vectors=10)\n",
    "register_plot(\"svd_top_correlated_components\", plot)"
   ]
  },
  {
   "cell_type": "markdown",
   "id": "4758610e",
   "metadata": {},
   "source": [
    "# Non-Linear Dimensionality Reduction"
   ]
  },
  {
   "cell_type": "markdown",
   "id": "643b83c2",
   "metadata": {},
   "source": [
    "## t-SNE"
   ]
  },
  {
   "cell_type": "code",
   "execution_count": null,
   "id": "1855a15b",
   "metadata": {},
   "outputs": [],
   "source": [
    "tsne_kwargs = dict(\n",
    "    perplexity=75,\n",
    "    max_iter=3000,\n",
    "    learning_rate=50,\n",
    "    early_exaggeration=20,\n",
    "    random_state=42,\n",
    ")\n",
    "\n",
    "# Apply t-SNE to both embeddings\n",
    "number_tsne = number_analyzer.run_estimator(TSNE(**tsne_kwargs))\n",
    "random_tsne = random_analyzer.run_estimator(TSNE(**tsne_kwargs))\n",
    "\n",
    "plot = alt.hconcat(\n",
    "    number_tsne.plot.components(plot_type=\"gradient\"),\n",
    "    random_tsne.plot.components(plot_type=\"gradient\"),\n",
    ").resolve_scale(color=\"independent\")\n",
    "\n",
    "register_plot(\"tsne_components_gradient\", plot)"
   ]
  },
  {
   "cell_type": "code",
   "execution_count": null,
   "id": "991e5e38",
   "metadata": {},
   "outputs": [],
   "source": [
    "# t-SNE digit visualizations\n",
    "plot = alt.hconcat(\n",
    "    number_tsne.plot.components(plot_type=\"digit_length\", x_component=0, y_component=1),\n",
    "    number_tsne.plot.components(\n",
    "        plot_type=\"digit\", x_component=0, y_component=1, digit_position=2\n",
    "    ),\n",
    ").resolve_legend(color=\"independent\")\n",
    "\n",
    "register_plot(\"tsne_digit_visualizations\", plot)"
   ]
  },
  {
   "cell_type": "markdown",
   "id": "5ca1fd9e",
   "metadata": {},
   "source": [
    "## UMAP"
   ]
  },
  {
   "cell_type": "markdown",
   "id": "3b9fca26",
   "metadata": {},
   "source": [
    "### Cosine similarity"
   ]
  },
  {
   "cell_type": "code",
   "execution_count": null,
   "id": "1f5659dd",
   "metadata": {},
   "outputs": [],
   "source": [
    "umap_kwargs = dict(\n",
    "    # Increase from default 15 to preserve more global structure\n",
    "    n_neighbors=50,\n",
    "    # Decrease from default 0.1 for tighter local clusters\n",
    "    min_dist=0.05,\n",
    "    metric=\"cosine\",\n",
    "    # Increase from default 1.0 to spread out the visualization\n",
    "    spread=1.5,\n",
    "    # Increase to enhance local structure preservation\n",
    "    local_connectivity=2,\n",
    "    random_state=42,\n",
    ")\n",
    "\n",
    "with warnings.catch_warnings():\n",
    "    warnings.filterwarnings(\"ignore\")\n",
    "    number_umap_cos = number_analyzer.run_estimator(UMAP(**umap_kwargs))\n",
    "    random_umap_cos = random_analyzer.run_estimator(UMAP(**umap_kwargs))\n",
    "\n",
    "plot = alt.hconcat(\n",
    "    number_umap_cos.plot.components(plot_type=\"gradient\"),\n",
    "    random_umap_cos.plot.components(plot_type=\"gradient\"),\n",
    ").resolve_scale(color=\"independent\")\n",
    "\n",
    "register_plot(\"umap_cosine_components_gradient\", plot)"
   ]
  },
  {
   "cell_type": "code",
   "execution_count": null,
   "id": "9869a86f",
   "metadata": {},
   "outputs": [],
   "source": [
    "# UMAP cosine digit visualizations\n",
    "plot = alt.hconcat(\n",
    "    number_umap_cos.plot.components(\n",
    "        plot_type=\"digit_length\", x_component=0, y_component=1\n",
    "    ),\n",
    "    number_umap_cos.plot.components(\n",
    "        plot_type=\"digit\", x_component=0, y_component=1, digit_position=2\n",
    "    ),\n",
    ").resolve_legend(color=\"independent\")\n",
    "\n",
    "register_plot(\"umap_cosine_digit_visualizations\", plot)"
   ]
  },
  {
   "cell_type": "markdown",
   "id": "97a940a1",
   "metadata": {},
   "source": [
    "### Euclidean distance"
   ]
  },
  {
   "cell_type": "code",
   "execution_count": null,
   "id": "032557e5",
   "metadata": {},
   "outputs": [],
   "source": [
    "umap_kwargs.update(metric=\"euclidean\")\n",
    "\n",
    "with warnings.catch_warnings():\n",
    "    warnings.filterwarnings(\"ignore\")\n",
    "    number_umap_euc = number_analyzer.run_estimator(UMAP(**umap_kwargs))\n",
    "    random_umap_euc = random_analyzer.run_estimator(UMAP(**umap_kwargs))\n",
    "\n",
    "plot = alt.hconcat(\n",
    "    number_umap_euc.plot.components(plot_type=\"gradient\"),\n",
    "    random_umap_euc.plot.components(plot_type=\"gradient\"),\n",
    ").resolve_scale(color=\"independent\")\n",
    "\n",
    "register_plot(\"umap_euclidean_components_gradient\", plot)"
   ]
  },
  {
   "cell_type": "code",
   "execution_count": null,
   "id": "a0b84169",
   "metadata": {},
   "outputs": [],
   "source": [
    "# UMAP Euclidean digit visualizations\n",
    "plot = alt.hconcat(\n",
    "    number_umap_euc.plot.components(plot_type=\"digit_length\", x_component=0, y_component=1),\n",
    "    number_umap_euc.plot.components( plot_type=\"digit\", x_component=0, y_component=1, digit_position=2)\n",
    ").resolve_scale(color=\"independent\")\n",
    "\n",
    "register_plot(\"umap_euclidean_digit_visualizations\", plot)"
   ]
  },
  {
   "cell_type": "markdown",
   "id": "66a49fa7",
   "metadata": {},
   "source": [
    "# Feature Analysis"
   ]
  },
  {
   "cell_type": "code",
   "execution_count": 11,
   "id": "103aaf73",
   "metadata": {},
   "outputs": [
    {
     "name": "stderr",
     "output_type": "stream",
     "text": [
      "<string>:20: ConstantInputWarning: An input array is constant; the correlation coefficient is not defined.\n"
     ]
    },
    {
     "data": {
      "application/vnd.microsoft.datawrangler.viewer.v0+json": {
       "columns": [
        {
         "name": "index",
         "rawType": "int64",
         "type": "integer"
        },
        {
         "name": "Dimension",
         "rawType": "int64",
         "type": "integer"
        },
        {
         "name": "Property",
         "rawType": "object",
         "type": "string"
        },
        {
         "name": "Encoding",
         "rawType": "object",
         "type": "string"
        },
        {
         "name": "Correlation",
         "rawType": "float64",
         "type": "float"
        },
        {
         "name": "P_Value",
         "rawType": "float64",
         "type": "float"
        }
       ],
       "ref": "82ff22ca-b83b-4eb1-92ab-06c9de76365d",
       "rows": [
        [
         "0",
         "514",
         "log",
         "direct",
         "-0.6728704322049941",
         "8.446593249981852e-133"
        ],
        [
         "1",
         "514",
         "numbers",
         "direct",
         "-0.6430112462790545",
         "9.390178581530505e-118"
        ],
        [
         "2",
         "514",
         "even",
         "direct",
         "-0.6430112462790545",
         "9.390178581530505e-118"
        ],
        [
         "3",
         "3085",
         "even",
         "direct",
         "-0.6099014911112753",
         "6.384089936863827e-103"
        ],
        [
         "4",
         "3085",
         "numbers",
         "direct",
         "-0.6099014911112753",
         "6.384089936863827e-103"
        ],
        [
         "5",
         "3085",
         "log",
         "direct",
         "-0.6065335539115024",
         "1.6467293892949673e-101"
        ],
        [
         "6",
         "665",
         "numbers",
         "direct",
         "-0.5738478775349312",
         "1.2016167567095035e-88"
        ],
        [
         "7",
         "665",
         "even",
         "direct",
         "-0.5738478775349312",
         "1.2016167567095035e-88"
        ],
        [
         "8",
         "2538",
         "log",
         "direct",
         "-0.5673172433796365",
         "3.0161503920634487e-86"
        ],
        [
         "9",
         "1820",
         "numbers",
         "direct",
         "0.51919207954859",
         "4.1146703999621674e-70"
        ],
        [
         "10",
         "1820",
         "even",
         "direct",
         "0.51919207954859",
         "4.1146703999621674e-70"
        ],
        [
         "11",
         "665",
         "log",
         "direct",
         "-0.5002784469533424",
         "1.89164006899521e-64"
        ],
        [
         "12",
         "150",
         "even",
         "direct",
         "-0.4908899894599171",
         "9.08416155507865e-62"
        ],
        [
         "13",
         "150",
         "numbers",
         "direct",
         "-0.4908899894599171",
         "9.08416155507865e-62"
        ],
        [
         "14",
         "90",
         "numbers",
         "direct",
         "0.4871115593203752",
         "1.0330382230434152e-60"
        ],
        [
         "15",
         "90",
         "even",
         "direct",
         "0.4871115593203752",
         "1.0330382230434152e-60"
        ],
        [
         "16",
         "110",
         "numbers",
         "direct",
         "0.48418541510984253",
         "6.64896972820227e-60"
        ],
        [
         "17",
         "110",
         "even",
         "direct",
         "0.48418541510984253",
         "6.64896972820227e-60"
        ],
        [
         "18",
         "3595",
         "even",
         "direct",
         "-0.4829608653624148",
         "1.4415776687763212e-59"
        ],
        [
         "19",
         "3595",
         "numbers",
         "direct",
         "-0.4829608653624148",
         "1.4415776687763212e-59"
        ],
        [
         "20",
         "1554",
         "even",
         "direct",
         "-0.48085451803179635",
         "5.416956848829486e-59"
        ],
        [
         "21",
         "1554",
         "numbers",
         "direct",
         "-0.48085451803179635",
         "5.416956848829486e-59"
        ],
        [
         "22",
         "3548",
         "even",
         "direct",
         "0.4763395285266925",
         "8.96739224993643e-58"
        ],
        [
         "23",
         "3548",
         "numbers",
         "direct",
         "0.4763395285266925",
         "8.96739224993643e-58"
        ],
        [
         "24",
         "1012",
         "log",
         "direct",
         "-0.4753463603685369",
         "1.6533077862713315e-57"
        ],
        [
         "25",
         "2538",
         "even",
         "direct",
         "-0.47276893504114675",
         "8.012882515312852e-57"
        ],
        [
         "26",
         "2538",
         "numbers",
         "direct",
         "-0.47276893504114675",
         "8.012882515312852e-57"
        ],
        [
         "27",
         "7",
         "even",
         "direct",
         "-0.4665301808079848",
         "3.458341120348713e-55"
        ],
        [
         "28",
         "7",
         "numbers",
         "direct",
         "-0.4665301808079848",
         "3.458341120348713e-55"
        ],
        [
         "29",
         "3118",
         "even",
         "direct",
         "0.456413551073066",
         "1.3163924316169894e-52"
        ],
        [
         "30",
         "3118",
         "numbers",
         "direct",
         "0.456413551073066",
         "1.3163924316169894e-52"
        ],
        [
         "31",
         "3718",
         "even",
         "direct",
         "0.4542216941338818",
         "4.646653936944543e-52"
        ],
        [
         "32",
         "3718",
         "numbers",
         "direct",
         "0.4542216941338818",
         "4.646653936944543e-52"
        ],
        [
         "33",
         "3879",
         "even",
         "direct",
         "0.45359251550601126",
         "6.662526437793417e-52"
        ],
        [
         "34",
         "3879",
         "numbers",
         "direct",
         "0.45359251550601126",
         "6.662526437793417e-52"
        ],
        [
         "35",
         "3502",
         "even",
         "direct",
         "0.4509739307748373",
         "2.9611827497483525e-51"
        ],
        [
         "36",
         "3502",
         "numbers",
         "direct",
         "0.4509739307748373",
         "2.9611827497483525e-51"
        ],
        [
         "37",
         "3050",
         "numbers",
         "direct",
         "0.44733197612332576",
         "2.307448878536877e-50"
        ],
        [
         "38",
         "3050",
         "even",
         "direct",
         "0.44733197612332576",
         "2.307448878536877e-50"
        ],
        [
         "39",
         "1040",
         "even",
         "direct",
         "0.44725104639097013",
         "2.4144803946551574e-50"
        ],
        [
         "40",
         "1040",
         "numbers",
         "direct",
         "0.44725104639097013",
         "2.4144803946551574e-50"
        ],
        [
         "41",
         "187",
         "even",
         "direct",
         "-0.4471277263775446",
         "2.587136563547408e-50"
        ],
        [
         "42",
         "187",
         "numbers",
         "direct",
         "-0.4471277263775446",
         "2.587136563547408e-50"
        ],
        [
         "43",
         "3879",
         "log",
         "direct",
         "0.4468282373944462",
         "3.059243754553453e-50"
        ],
        [
         "44",
         "110",
         "log",
         "direct",
         "0.4450258261196759",
         "8.35954157117524e-50"
        ],
        [
         "45",
         "3298",
         "even",
         "direct",
         "-0.44109177369710517",
         "7.345065547713754e-49"
        ],
        [
         "46",
         "3298",
         "numbers",
         "direct",
         "-0.44109177369710517",
         "7.345065547713754e-49"
        ],
        [
         "47",
         "607",
         "numbers",
         "direct",
         "0.4406141887449755",
         "9.544014252437664e-49"
        ],
        [
         "48",
         "607",
         "even",
         "direct",
         "0.4406141887449755",
         "9.544014252437664e-49"
        ],
        [
         "49",
         "766",
         "even",
         "direct",
         "-0.4400486470297774",
         "1.3007046536756972e-48"
        ]
       ],
       "shape": {
        "columns": 5,
        "rows": 217088
       }
      },
      "text/html": [
       "<div>\n",
       "<style scoped>\n",
       "    .dataframe tbody tr th:only-of-type {\n",
       "        vertical-align: middle;\n",
       "    }\n",
       "\n",
       "    .dataframe tbody tr th {\n",
       "        vertical-align: top;\n",
       "    }\n",
       "\n",
       "    .dataframe thead th {\n",
       "        text-align: right;\n",
       "    }\n",
       "</style>\n",
       "<table border=\"1\" class=\"dataframe\">\n",
       "  <thead>\n",
       "    <tr style=\"text-align: right;\">\n",
       "      <th></th>\n",
       "      <th>Dimension</th>\n",
       "      <th>Property</th>\n",
       "      <th>Encoding</th>\n",
       "      <th>Correlation</th>\n",
       "      <th>P_Value</th>\n",
       "    </tr>\n",
       "  </thead>\n",
       "  <tbody>\n",
       "    <tr>\n",
       "      <th>0</th>\n",
       "      <td>514</td>\n",
       "      <td>log</td>\n",
       "      <td>direct</td>\n",
       "      <td>-0.672870</td>\n",
       "      <td>8.446593e-133</td>\n",
       "    </tr>\n",
       "    <tr>\n",
       "      <th>1</th>\n",
       "      <td>514</td>\n",
       "      <td>numbers</td>\n",
       "      <td>direct</td>\n",
       "      <td>-0.643011</td>\n",
       "      <td>9.390179e-118</td>\n",
       "    </tr>\n",
       "    <tr>\n",
       "      <th>2</th>\n",
       "      <td>514</td>\n",
       "      <td>even</td>\n",
       "      <td>direct</td>\n",
       "      <td>-0.643011</td>\n",
       "      <td>9.390179e-118</td>\n",
       "    </tr>\n",
       "    <tr>\n",
       "      <th>3</th>\n",
       "      <td>3085</td>\n",
       "      <td>even</td>\n",
       "      <td>direct</td>\n",
       "      <td>-0.609901</td>\n",
       "      <td>6.384090e-103</td>\n",
       "    </tr>\n",
       "    <tr>\n",
       "      <th>4</th>\n",
       "      <td>3085</td>\n",
       "      <td>numbers</td>\n",
       "      <td>direct</td>\n",
       "      <td>-0.609901</td>\n",
       "      <td>6.384090e-103</td>\n",
       "    </tr>\n",
       "    <tr>\n",
       "      <th>...</th>\n",
       "      <td>...</td>\n",
       "      <td>...</td>\n",
       "      <td>...</td>\n",
       "      <td>...</td>\n",
       "      <td>...</td>\n",
       "    </tr>\n",
       "    <tr>\n",
       "      <th>217083</th>\n",
       "      <td>4094</td>\n",
       "      <td>factorials</td>\n",
       "      <td>fourier_cos_T1</td>\n",
       "      <td>NaN</td>\n",
       "      <td>NaN</td>\n",
       "    </tr>\n",
       "    <tr>\n",
       "      <th>217084</th>\n",
       "      <td>4095</td>\n",
       "      <td>primes</td>\n",
       "      <td>fourier_cos_T1</td>\n",
       "      <td>NaN</td>\n",
       "      <td>NaN</td>\n",
       "    </tr>\n",
       "    <tr>\n",
       "      <th>217085</th>\n",
       "      <td>4095</td>\n",
       "      <td>fibonacci</td>\n",
       "      <td>fourier_cos_T1</td>\n",
       "      <td>NaN</td>\n",
       "      <td>NaN</td>\n",
       "    </tr>\n",
       "    <tr>\n",
       "      <th>217086</th>\n",
       "      <td>4095</td>\n",
       "      <td>triangular</td>\n",
       "      <td>fourier_cos_T1</td>\n",
       "      <td>NaN</td>\n",
       "      <td>NaN</td>\n",
       "    </tr>\n",
       "    <tr>\n",
       "      <th>217087</th>\n",
       "      <td>4095</td>\n",
       "      <td>factorials</td>\n",
       "      <td>fourier_cos_T1</td>\n",
       "      <td>NaN</td>\n",
       "      <td>NaN</td>\n",
       "    </tr>\n",
       "  </tbody>\n",
       "</table>\n",
       "<p>217088 rows × 5 columns</p>\n",
       "</div>"
      ],
      "text/plain": [
       "        Dimension    Property        Encoding  Correlation        P_Value\n",
       "0             514         log          direct    -0.672870  8.446593e-133\n",
       "1             514     numbers          direct    -0.643011  9.390179e-118\n",
       "2             514        even          direct    -0.643011  9.390179e-118\n",
       "3            3085        even          direct    -0.609901  6.384090e-103\n",
       "4            3085     numbers          direct    -0.609901  6.384090e-103\n",
       "...           ...         ...             ...          ...            ...\n",
       "217083       4094  factorials  fourier_cos_T1          NaN            NaN\n",
       "217084       4095      primes  fourier_cos_T1          NaN            NaN\n",
       "217085       4095   fibonacci  fourier_cos_T1          NaN            NaN\n",
       "217086       4095  triangular  fourier_cos_T1          NaN            NaN\n",
       "217087       4095  factorials  fourier_cos_T1          NaN            NaN\n",
       "\n",
       "[217088 rows x 5 columns]"
      ]
     },
     "execution_count": 11,
     "metadata": {},
     "output_type": "execute_result"
    }
   ],
   "source": [
    "number_analyzer.feature_to_sequence_analysis_df()"
   ]
  },
  {
   "cell_type": "code",
   "execution_count": 1,
   "id": "66312ad9",
   "metadata": {},
   "outputs": [
    {
     "ename": "NameError",
     "evalue": "name 'number_analyzer' is not defined",
     "output_type": "error",
     "traceback": [
      "\u001b[31m---------------------------------------------------------------------------\u001b[39m",
      "\u001b[31mNameError\u001b[39m                                 Traceback (most recent call last)",
      "\u001b[36mCell\u001b[39m\u001b[36m \u001b[39m\u001b[32mIn[1]\u001b[39m\u001b[32m, line 1\u001b[39m\n\u001b[32m----> \u001b[39m\u001b[32m1\u001b[39m plot = \u001b[43mnumber_analyzer\u001b[49m.plot.strong_property_correlation_bar_chart()\n\u001b[32m      2\u001b[39m register_plot(\u001b[33m\"\u001b[39m\u001b[33mstrong_property_correlations\u001b[39m\u001b[33m\"\u001b[39m, plot)\n",
      "\u001b[31mNameError\u001b[39m: name 'number_analyzer' is not defined"
     ]
    }
   ],
   "source": [
    "plot = number_analyzer.plot.strong_property_correlation_bar_chart()\n",
    "register_plot(\"strong_property_correlations\", plot)"
   ]
  },
  {
   "cell_type": "code",
   "execution_count": null,
   "id": "e1caad9f",
   "metadata": {},
   "outputs": [],
   "source": [
    "len(number_analyzer.embeddings_df)"
   ]
  },
  {
   "cell_type": "code",
   "execution_count": null,
   "id": "015ba6f7",
   "metadata": {},
   "outputs": [],
   "source": [
    "df = number_analyzer.feature_to_sequence_analysis_df()"
   ]
  },
  {
   "cell_type": "code",
   "execution_count": null,
   "id": "2884682d",
   "metadata": {},
   "outputs": [],
   "source": [
    "df[df['Property'].isin(['fourier_cos_T1', 'fourier_sin_T1'])].head(10)"
   ]
  },
  {
   "cell_type": "code",
   "execution_count": null,
   "id": "d11642f8",
   "metadata": {},
   "outputs": [],
   "source": [
    "import pandas as pd\n",
    "from embanalysis.feature_analysis import make_encoded_sequences\n",
    "\n",
    "df = pd.DataFrame(\n",
    "    make_encoded_sequences(len(number_analyzer.embeddings_df)),\n",
    ")\n",
    "df.columns = df.columns.map(lambda x: \"/\".join(x))\n",
    "\n",
    "df.reset_index(inplace=True)\n",
    "df"
   ]
  },
  {
   "cell_type": "code",
   "execution_count": null,
   "id": "30851001",
   "metadata": {},
   "outputs": [],
   "source": [
    "import altair as alt\n",
    "alt.Chart(df).mark_rule(strokeDash=[10, 5], color='darkred').encode(x='index', y='fibonacci/binary:Q')"
   ]
  },
  {
   "cell_type": "code",
   "execution_count": null,
   "id": "3b7b9dfd",
   "metadata": {},
   "outputs": [],
   "source": [
    "number_analyzer.plot.feature_with_discrete_sequences(184, ['fibonacci', 'prime'])"
   ]
  },
  {
   "cell_type": "code",
   "execution_count": null,
   "id": "621421be",
   "metadata": {},
   "outputs": [],
   "source": [
    "import pandas as pd\n",
    "from embanalysis.feature_analysis import make_encoded_sequences\n",
    "\n",
    "sequences = make_encoded_sequences(999)\n",
    "seq = sequences['fibonacci', 'gauss']\n",
    "seq"
   ]
  },
  {
   "cell_type": "code",
   "execution_count": null,
   "id": "67f9b39f",
   "metadata": {},
   "outputs": [],
   "source": []
  },
  {
   "cell_type": "code",
   "execution_count": null,
   "id": "8e7cf024",
   "metadata": {},
   "outputs": [],
   "source": [
    "# Create a DataFrame with numbers 0 to 999\n",
    "numbers_df = pd.DataFrame({'number': seq})\n",
    "\n",
    "numbers_df.reset_index(inplace=True)\n",
    "\n",
    "# Plot using Altair\n",
    "plot = alt.Chart(numbers_df).mark_line().encode(\n",
    "    x='index',\n",
    "    y='number:Q',\n",
    ").properties(\n",
    "    title='Gaussian Smoothed Fibonacci Sequence'\n",
    ").interactive()\n",
    "\n",
    "plot"
   ]
  },
  {
   "cell_type": "code",
   "execution_count": null,
   "id": "9d8fdb41",
   "metadata": {},
   "outputs": [],
   "source": []
  }
 ],
 "metadata": {
  "kernelspec": {
   "display_name": ".venv",
   "language": "python",
   "name": "python3"
  },
  "language_info": {
   "codemirror_mode": {
    "name": "ipython",
    "version": 3
   },
   "file_extension": ".py",
   "mimetype": "text/x-python",
   "name": "python",
   "nbconvert_exporter": "python",
   "pygments_lexer": "ipython3",
   "version": "3.13.4"
  }
 },
 "nbformat": 4,
 "nbformat_minor": 5
}
